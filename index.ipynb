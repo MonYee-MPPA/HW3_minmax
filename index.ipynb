{
 "cells": [
  {
   "cell_type": "raw",
   "id": "51b5d33c-5259-40d8-9a1a-ea97e568b51f",
   "metadata": {},
   "source": [
    "minimization problem (the vitamin suplements)"
   ]
  },
  {
   "cell_type": "code",
   "execution_count": 1,
   "id": "f786d363-f951-4533-89bd-ab568cec59f5",
   "metadata": {
    "collapsed": true,
    "jupyter": {
     "outputs_hidden": true
    }
   },
   "outputs": [
    {
     "name": "stdout",
     "output_type": "stream",
     "text": [
      "Name: glpk\n",
      "Version: 0.4.8\n",
      "Summary: PyGLPK, a Python module encapsulating GLPK.\n",
      "Home-page: https://github.com/bradfordboyle/pyglpk\n",
      "Author: Thomas Finley\n",
      "Author-email: tfinley@gmail.com\n",
      "License: GPL\n",
      "Location: /opt/anaconda3/envs/myenvironment/lib/python3.12/site-packages\n",
      "Requires: \n",
      "Required-by: \n",
      "---\n",
      "Name: PuLP\n",
      "Version: 2.8.0\n",
      "Summary: PuLP is an LP modeler written in python. PuLP can generate MPS or LP files and call GLPK, COIN CLP/CBC, CPLEX, and GUROBI to solve linear problems.\n",
      "Home-page: https://github.com/coin-or/pulp\n",
      "Author: J.S. Roy and S.A. Mitchell and F. Peschiera\n",
      "Author-email: pulp@stuartmitchell.com\n",
      "License: \n",
      "Location: /opt/anaconda3/envs/myenvironment/lib/python3.12/site-packages\n",
      "Requires: \n",
      "Required-by: \n"
     ]
    }
   ],
   "source": [
    "!pip show glpk pulp"
   ]
  },
  {
   "cell_type": "code",
   "execution_count": 2,
   "id": "ccdcefe0-72ed-46d8-9d95-d5887d799459",
   "metadata": {},
   "outputs": [],
   "source": [
    "import pulp as pp"
   ]
  },
  {
   "cell_type": "code",
   "execution_count": 3,
   "id": "0d664347-e9b1-4cdf-949c-6226009c988e",
   "metadata": {},
   "outputs": [],
   "source": [
    "#1. Initialize the MODEL: Writing down the name and Declaring for \"Minimization\" problem type \n",
    "model = pp.LpProblem(name='Vitamin-Supplement', # just the name\n",
    "                     sense=pp.LpMinimize) # other option: LpMinimize"
   ]
  },
  {
   "cell_type": "code",
   "execution_count": 4,
   "id": "e887349e-8ac4-4a80-bac2-0294bef77ea4",
   "metadata": {},
   "outputs": [],
   "source": [
    "#2. Declare the VARIABLES: The Vitamin-Supplement model consists of these variables:\n",
    "SV = pp.LpVariable(name=\"SV\",  # just the name\n",
    "                    lowBound=0,  # ensure non-negativity\n",
    "                    cat='Integer') # when would 'Integer' be needed?\n",
    "\n",
    "\n",
    "NH = pp.LpVariable(name=\"NH\",\n",
    "                 lowBound=0,\n",
    "                 cat='Integer')"
   ]
  },
  {
   "cell_type": "code",
   "execution_count": 5,
   "id": "6207996f-b2e4-4074-add3-1eb5970a3f12",
   "metadata": {},
   "outputs": [],
   "source": [
    "#3. Create function to OPTIMIZE:just the linear combination of the variables and their given coefficients:\n",
    "SVCoeff=0.2\n",
    "NHCoeff=0.3\n",
    "obj_func = SVCoeff*SV + NHCoeff*NH"
   ]
  },
  {
   "cell_type": "code",
   "execution_count": 21,
   "id": "bbfc0f01-7e32-42bc-89b2-133f8066df89",
   "metadata": {},
   "outputs": [],
   "source": [
    "#4. Represent the constraints: These are the rules the model (set of variables) must obey:\n",
    "# SUBJECT TO:\n",
    "C1= pp.LpConstraint(name='vitaminC',  # just the name\n",
    "                    e= 20*SV + 30*NH,\n",
    "                    rhs=60,\n",
    "                    sense=pp.LpConstraintGE)\n",
    "C2= pp.LpConstraint(name='calcium',\n",
    "                    e= 500*SV + 250*NH,\n",
    "                    rhs=1000,\n",
    "                    sense=pp.LpConstraintGE)\n",
    "C3= pp.LpConstraint(name='iron',\n",
    "                    e= 9*SV + 2*NH,\n",
    "                    rhs=18,\n",
    "                    sense=pp.LpConstraintGE)\n",
    "C4= pp.LpConstraint(name='niacin',\n",
    "                    e= 2*SV + 10*NH,\n",
    "                    rhs=20,\n",
    "                    sense=pp.LpConstraintGE)\n",
    "C5= pp.LpConstraint(name='magnesium',\n",
    "                    e= 60*SV + 90*NH,\n",
    "                    rhs=360,\n",
    "                    sense=pp.LpConstraintGE)"
   ]
  },
  {
   "cell_type": "code",
   "execution_count": 22,
   "id": "91e924c5-4880-49b8-ac2b-5433104187c8",
   "metadata": {},
   "outputs": [],
   "source": [
    "#5.Build MODEL: adding (i) the objective function, and (ii) all the constraints:\n",
    "model += obj_func\n",
    "model += C1\n",
    "model += C2\n",
    "model += C3\n",
    "model += C4\n",
    "model += C5"
   ]
  },
  {
   "cell_type": "code",
   "execution_count": 23,
   "id": "729d0c62-ff54-45a6-ae3b-6699d2b236bf",
   "metadata": {
    "scrolled": true
   },
   "outputs": [
    {
     "name": "stdout",
     "output_type": "stream",
     "text": [
      "Welcome to the CBC MILP Solver \n",
      "Version: 2.10.3 \n",
      "Build Date: Dec 15 2019 \n",
      "\n",
      "command line - /opt/anaconda3/envs/myenvironment/lib/python3.12/site-packages/pulp/solverdir/cbc/osx/64/cbc /var/folders/tx/g3d0g_254g18qgg9vblmd7tw0000gn/T/e5e93fbc342b4afd830833fa493abd15-pulp.mps -timeMode elapsed -branch -printingOptions all -solution /var/folders/tx/g3d0g_254g18qgg9vblmd7tw0000gn/T/e5e93fbc342b4afd830833fa493abd15-pulp.sol (default strategy 1)\n",
      "At line 2 NAME          MODEL\n",
      "At line 3 ROWS\n",
      "At line 16 COLUMNS\n",
      "At line 45 RHS\n",
      "At line 57 BOUNDS\n",
      "At line 60 ENDATA\n",
      "Problem MODEL has 11 rows, 2 columns and 22 elements\n",
      "Coin0008I MODEL read with 0 errors\n",
      "Option for timeMode changed from cpu to elapsed\n",
      "Continuous objective value is 1.2 - 0.00 seconds\n",
      "Cgl0003I 0 fixed, 2 tightened bounds, 0 strengthened rows, 0 substitutions\n",
      "Cgl0004I processed model has 5 rows, 2 columns (2 integer (0 of which binary)) and 10 elements\n",
      "Cbc0012I Integer solution of 1.7 found by greedy cover after 0 iterations and 0 nodes (0.01 seconds)\n",
      "Cbc0012I Integer solution of 1.6 found by DiveCoefficient after 0 iterations and 0 nodes (0.01 seconds)\n",
      "Cbc0012I Integer solution of 1.2 found by DiveCoefficient after 2 iterations and 0 nodes (0.01 seconds)\n",
      "Cbc0031I 1 added rows had average density of 2\n",
      "Cbc0013I At root node, 1 cuts changed objective from 1.2 to 1.2 in 3 passes\n",
      "Cbc0014I Cut generator 0 (Probing) - 1 row cuts average 2.0 elements, 3 column cuts (3 active)  in 0.000 seconds - new frequency is 1\n",
      "Cbc0014I Cut generator 1 (Gomory) - 1 row cuts average 2.0 elements, 0 column cuts (0 active)  in 0.000 seconds - new frequency is 1\n",
      "Cbc0014I Cut generator 2 (Knapsack) - 0 row cuts average 0.0 elements, 0 column cuts (0 active)  in 0.000 seconds - new frequency is -100\n",
      "Cbc0014I Cut generator 3 (Clique) - 0 row cuts average 0.0 elements, 0 column cuts (0 active)  in 0.000 seconds - new frequency is -100\n",
      "Cbc0014I Cut generator 4 (MixedIntegerRounding2) - 0 row cuts average 0.0 elements, 0 column cuts (0 active)  in 0.000 seconds - new frequency is -100\n",
      "Cbc0014I Cut generator 5 (FlowCover) - 0 row cuts average 0.0 elements, 0 column cuts (0 active)  in 0.000 seconds - new frequency is -100\n",
      "Cbc0001I Search completed - best objective 1.2, took 2 iterations and 0 nodes (0.01 seconds)\n",
      "Cbc0035I Maximum depth 0, 0 variables fixed on reduced cost\n",
      "Cuts at root node changed objective from 1.2 to 1.2\n",
      "Probing was tried 3 times and created 4 cuts of which 0 were active after adding rounds of cuts (0.000 seconds)\n",
      "Gomory was tried 3 times and created 1 cuts of which 0 were active after adding rounds of cuts (0.000 seconds)\n",
      "Knapsack was tried 3 times and created 0 cuts of which 0 were active after adding rounds of cuts (0.000 seconds)\n",
      "Clique was tried 3 times and created 0 cuts of which 0 were active after adding rounds of cuts (0.000 seconds)\n",
      "MixedIntegerRounding2 was tried 3 times and created 0 cuts of which 0 were active after adding rounds of cuts (0.000 seconds)\n",
      "FlowCover was tried 3 times and created 0 cuts of which 0 were active after adding rounds of cuts (0.000 seconds)\n",
      "TwoMirCuts was tried 1 times and created 0 cuts of which 0 were active after adding rounds of cuts (0.000 seconds)\n",
      "ZeroHalf was tried 1 times and created 0 cuts of which 0 were active after adding rounds of cuts (0.000 seconds)\n",
      "\n",
      "Result - Optimal solution found\n",
      "\n",
      "Objective value:                1.20000000\n",
      "Enumerated nodes:               0\n",
      "Total iterations:               2\n",
      "Time (CPU seconds):             0.00\n",
      "Time (Wallclock seconds):       0.01\n",
      "\n",
      "Option for printingOptions changed from normal to all\n",
      "Total time (CPU seconds):       0.00   (Wallclock seconds):       0.02\n",
      "\n"
     ]
    }
   ],
   "source": [
    "#Solve the MODEL: not using the default solver:\n",
    "model.solve();"
   ]
  },
  {
   "cell_type": "code",
   "execution_count": 24,
   "id": "2c8b196d-410f-404e-94f6-d7e07494ec97",
   "metadata": {},
   "outputs": [
    {
     "data": {
      "text/plain": [
       "{'Optimal Solution to minimize spending': 1.2000000000000002,\n",
       " 'NH': 2.0,\n",
       " 'SV': 3.0}"
      ]
     },
     "execution_count": 24,
     "metadata": {},
     "output_type": "execute_result"
    }
   ],
   "source": [
    "#Getting the key result \n",
    "Results={\"Optimal Solution to minimize spending\":pp.value(model.objective)}\n",
    "Results.update({v.name: v.varValue for v in model.variables()})\n",
    "Results"
   ]
  },
  {
   "cell_type": "code",
   "execution_count": 25,
   "id": "8358b520-cc6a-402d-a7ee-7b7da7867421",
   "metadata": {},
   "outputs": [
    {
     "data": {
      "text/html": [
       "<div>\n",
       "<style scoped>\n",
       "    .dataframe tbody tr th:only-of-type {\n",
       "        vertical-align: middle;\n",
       "    }\n",
       "\n",
       "    .dataframe tbody tr th {\n",
       "        vertical-align: top;\n",
       "    }\n",
       "\n",
       "    .dataframe thead th {\n",
       "        text-align: right;\n",
       "    }\n",
       "</style>\n",
       "<table border=\"1\" class=\"dataframe\">\n",
       "  <thead>\n",
       "    <tr style=\"text-align: right;\">\n",
       "      <th></th>\n",
       "      <th>info</th>\n",
       "    </tr>\n",
       "  </thead>\n",
       "  <tbody>\n",
       "    <tr>\n",
       "      <th>Optimal Solution to minimize spending</th>\n",
       "      <td>1.20</td>\n",
       "    </tr>\n",
       "    <tr>\n",
       "      <th>NH</th>\n",
       "      <td>2.00</td>\n",
       "    </tr>\n",
       "    <tr>\n",
       "      <th>SV</th>\n",
       "      <td>3.00</td>\n",
       "    </tr>\n",
       "  </tbody>\n",
       "</table>\n",
       "</div>"
      ],
      "text/plain": [
       "                                       info\n",
       "Optimal Solution to minimize spending  1.20\n",
       "NH                                     2.00\n",
       "SV                                     3.00"
      ]
     },
     "execution_count": 25,
     "metadata": {},
     "output_type": "execute_result"
    }
   ],
   "source": [
    "import pandas as pd\n",
    "pd.DataFrame.from_dict(Results,orient='index',columns=['info']).map('{:,.2f}'.format)"
   ]
  },
  {
   "cell_type": "code",
   "execution_count": null,
   "id": "1e25baa0-efc1-4216-aaf0-b2ef236de27c",
   "metadata": {},
   "outputs": [],
   "source": []
  }
 ],
 "metadata": {
  "kernelspec": {
   "display_name": "Python 3 (ipykernel)",
   "language": "python",
   "name": "python3"
  },
  "language_info": {
   "codemirror_mode": {
    "name": "ipython",
    "version": 3
   },
   "file_extension": ".py",
   "mimetype": "text/x-python",
   "name": "python",
   "nbconvert_exporter": "python",
   "pygments_lexer": "ipython3",
   "version": "3.12.2"
  }
 },
 "nbformat": 4,
 "nbformat_minor": 5
}
